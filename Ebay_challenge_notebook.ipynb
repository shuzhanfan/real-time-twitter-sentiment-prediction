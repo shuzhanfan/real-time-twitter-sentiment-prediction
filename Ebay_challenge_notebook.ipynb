{
 "cells": [
  {
   "cell_type": "markdown",
   "metadata": {},
   "source": [
    "# MLB Players Hall Of Fame Prediction"
   ]
  },
  {
   "cell_type": "markdown",
   "metadata": {},
   "source": [
    " -- By Shuzhan Fan, Mar. 8 2019"
   ]
  },
  {
   "cell_type": "markdown",
   "metadata": {},
   "source": [
    "## Import libraries and load data"
   ]
  },
  {
   "cell_type": "markdown",
   "metadata": {},
   "source": [
    "First, import all necessary libraries:"
   ]
  },
  {
   "cell_type": "code",
   "execution_count": 47,
   "metadata": {},
   "outputs": [],
   "source": [
    "# Analysis imports\n",
    "import numpy as np\n",
    "import pandas as pd\n",
    "\n",
    "# Visualization imports\n",
    "import matplotlib.pyplot as plt\n",
    "import seaborn as sns\n",
    "%matplotlib inline\n",
    "\n",
    "# Machine learning imports\n",
    "from sklearn.model_selection import train_test_split\n",
    "from sklearn.preprocessing import LabelEncoder\n",
    "from sklearn.preprocessing import OneHotEncoder\n",
    "from sklearn.preprocessing import StandardScaler\n",
    "from sklearn.model_selection import StratifiedKFold\n",
    "from sklearn.model_selection import GridSearchCV\n",
    "from sklearn.ensemble import RandomForestClassifier\n",
    "from sklearn.metrics import roc_auc_score, roc_curve\n",
    "from sklearn.metrics import classification_report\n",
    "from sklearn.metrics import confusion_matrix\n",
    "from imblearn.over_sampling import SMOTE\n",
    "\n",
    "# Miscellaneous imports \n",
    "import warnings\n",
    "warnings.filterwarnings(\"ignore\")"
   ]
  },
  {
   "cell_type": "markdown",
   "metadata": {},
   "source": [
    "Next, I'll load the data:"
   ]
  },
  {
   "cell_type": "code",
   "execution_count": 2,
   "metadata": {},
   "outputs": [],
   "source": [
    "df_batting = pd.read_csv(\"./baseballdatabank-master/core/Batting.csv\", header=\"infer\")\n",
    "df_master  = pd.read_csv(\"./baseballdatabank-master/core/Master.csv\", header=\"infer\")\n",
    "df_hof     = pd.read_csv(\"./baseballdatabank-master/core/HallOfFame.csv\", header=\"infer\")"
   ]
  },
  {
   "cell_type": "markdown",
   "metadata": {},
   "source": [
    "## Data cleaning"
   ]
  },
  {
   "cell_type": "code",
   "execution_count": 3,
   "metadata": {
    "scrolled": true
   },
   "outputs": [
    {
     "data": {
      "text/plain": [
       "array(['Player', 'Manager', 'Pioneer/Executive', 'Umpire'], dtype=object)"
      ]
     },
     "execution_count": 3,
     "metadata": {},
     "output_type": "execute_result"
    }
   ],
   "source": [
    "df_hof[\"category\"].unique()"
   ]
  },
  {
   "cell_type": "code",
   "execution_count": 4,
   "metadata": {},
   "outputs": [],
   "source": [
    "# Remove all the rows who are not a Player in HallOfFame table\n",
    "df_hof = df_hof[df_hof[\"category\"] == \"Player\"]"
   ]
  },
  {
   "cell_type": "code",
   "execution_count": 5,
   "metadata": {},
   "outputs": [
    {
     "data": {
      "text/html": [
       "<div>\n",
       "<style scoped>\n",
       "    .dataframe tbody tr th:only-of-type {\n",
       "        vertical-align: middle;\n",
       "    }\n",
       "\n",
       "    .dataframe tbody tr th {\n",
       "        vertical-align: top;\n",
       "    }\n",
       "\n",
       "    .dataframe thead th {\n",
       "        text-align: right;\n",
       "    }\n",
       "</style>\n",
       "<table border=\"1\" class=\"dataframe\">\n",
       "  <thead>\n",
       "    <tr style=\"text-align: right;\">\n",
       "      <th></th>\n",
       "      <th>playerID</th>\n",
       "      <th>yearid</th>\n",
       "      <th>votedBy</th>\n",
       "      <th>ballots</th>\n",
       "      <th>needed</th>\n",
       "      <th>votes</th>\n",
       "      <th>inducted</th>\n",
       "      <th>category</th>\n",
       "      <th>needed_note</th>\n",
       "    </tr>\n",
       "  </thead>\n",
       "  <tbody>\n",
       "    <tr>\n",
       "      <th>0</th>\n",
       "      <td>cobbty01</td>\n",
       "      <td>1936</td>\n",
       "      <td>BBWAA</td>\n",
       "      <td>226.0</td>\n",
       "      <td>170.0</td>\n",
       "      <td>222.0</td>\n",
       "      <td>Y</td>\n",
       "      <td>Player</td>\n",
       "      <td>NaN</td>\n",
       "    </tr>\n",
       "    <tr>\n",
       "      <th>1</th>\n",
       "      <td>ruthba01</td>\n",
       "      <td>1936</td>\n",
       "      <td>BBWAA</td>\n",
       "      <td>226.0</td>\n",
       "      <td>170.0</td>\n",
       "      <td>215.0</td>\n",
       "      <td>Y</td>\n",
       "      <td>Player</td>\n",
       "      <td>NaN</td>\n",
       "    </tr>\n",
       "    <tr>\n",
       "      <th>2</th>\n",
       "      <td>wagneho01</td>\n",
       "      <td>1936</td>\n",
       "      <td>BBWAA</td>\n",
       "      <td>226.0</td>\n",
       "      <td>170.0</td>\n",
       "      <td>215.0</td>\n",
       "      <td>Y</td>\n",
       "      <td>Player</td>\n",
       "      <td>NaN</td>\n",
       "    </tr>\n",
       "    <tr>\n",
       "      <th>3</th>\n",
       "      <td>mathech01</td>\n",
       "      <td>1936</td>\n",
       "      <td>BBWAA</td>\n",
       "      <td>226.0</td>\n",
       "      <td>170.0</td>\n",
       "      <td>205.0</td>\n",
       "      <td>Y</td>\n",
       "      <td>Player</td>\n",
       "      <td>NaN</td>\n",
       "    </tr>\n",
       "    <tr>\n",
       "      <th>4</th>\n",
       "      <td>johnswa01</td>\n",
       "      <td>1936</td>\n",
       "      <td>BBWAA</td>\n",
       "      <td>226.0</td>\n",
       "      <td>170.0</td>\n",
       "      <td>189.0</td>\n",
       "      <td>Y</td>\n",
       "      <td>Player</td>\n",
       "      <td>NaN</td>\n",
       "    </tr>\n",
       "  </tbody>\n",
       "</table>\n",
       "</div>"
      ],
      "text/plain": [
       "    playerID  yearid votedBy  ballots  needed  votes inducted category  \\\n",
       "0   cobbty01    1936   BBWAA    226.0   170.0  222.0        Y   Player   \n",
       "1   ruthba01    1936   BBWAA    226.0   170.0  215.0        Y   Player   \n",
       "2  wagneho01    1936   BBWAA    226.0   170.0  215.0        Y   Player   \n",
       "3  mathech01    1936   BBWAA    226.0   170.0  205.0        Y   Player   \n",
       "4  johnswa01    1936   BBWAA    226.0   170.0  189.0        Y   Player   \n",
       "\n",
       "  needed_note  \n",
       "0         NaN  \n",
       "1         NaN  \n",
       "2         NaN  \n",
       "3         NaN  \n",
       "4         NaN  "
      ]
     },
     "execution_count": 5,
     "metadata": {},
     "output_type": "execute_result"
    }
   ],
   "source": [
    "# Show the first five rows in HallofFame table\n",
    "df_hof.head()"
   ]
  },
  {
   "cell_type": "markdown",
   "metadata": {},
   "source": [
    "According to the description of this exercise problem, I will be building a predictive model that predicts whether a batter will ultimately make it into the Hall of Fame, instead of whether a batter will make it into the Hall of Fame in a given voting year. Thus, in the HallOfFame table, I only care about those players who were inducted eventually."
   ]
  },
  {
   "cell_type": "code",
   "execution_count": 6,
   "metadata": {},
   "outputs": [],
   "source": [
    "# Keep the rows with \"inducted\" value of \"Y\"\n",
    "df_hof = df_hof[df_hof[\"inducted\"] == \"Y\"]\n",
    "df_hof = df_hof[[\"playerID\", \"inducted\"]]\n",
    "df_hof = df_hof.rename(columns={\"inducted\": \"halloffame\"})"
   ]
  },
  {
   "cell_type": "markdown",
   "metadata": {},
   "source": [
    "Since we should focus on only batters in this exercise, I'll simply remove the rows with an \"AB\" (i.e. at-bat) value of 0 or NaN, since a player has to at least attempt to hit in order to be considered as a batter."
   ]
  },
  {
   "cell_type": "code",
   "execution_count": 7,
   "metadata": {},
   "outputs": [
    {
     "name": "stdout",
     "output_type": "stream",
     "text": [
      "There are 101332 rows in Batting table \n",
      "There are 9773 rows with AB value of 0 \n",
      "There are 5149 rows with AB value of NaN\n"
     ]
    }
   ],
   "source": [
    "print(\"There are %d rows in Batting table \\nThere are %d rows with AB value of 0 \\nThere are %d rows with AB value of NaN\" % (len(df_batting), len(df_batting[df_batting[\"AB\"] == 0]), df_batting[\"AB\"].isnull().sum()))"
   ]
  },
  {
   "cell_type": "code",
   "execution_count": 8,
   "metadata": {},
   "outputs": [],
   "source": [
    "# Keep the rows with \"AB\" value larger than 0\n",
    "df_batting = df_batting[df_batting[\"AB\"] > 0]"
   ]
  },
  {
   "cell_type": "code",
   "execution_count": 9,
   "metadata": {},
   "outputs": [
    {
     "data": {
      "text/plain": [
       "(86410, 22)"
      ]
     },
     "execution_count": 9,
     "metadata": {},
     "output_type": "execute_result"
    }
   ],
   "source": [
    "df_batting.shape"
   ]
  },
  {
   "cell_type": "markdown",
   "metadata": {},
   "source": [
    "## Feature engineering"
   ]
  },
  {
   "cell_type": "markdown",
   "metadata": {},
   "source": [
    "### 1. Aggregation and Joining"
   ]
  },
  {
   "cell_type": "markdown",
   "metadata": {},
   "source": [
    "The Batting table contains year by year batting statistics for each player. In order for the predictive model to work for each player, I need to aggregate the statistics across each player's professional career."
   ]
  },
  {
   "cell_type": "code",
   "execution_count": 10,
   "metadata": {},
   "outputs": [],
   "source": [
    "# Count the number of seasons played for each player\n",
    "seasons = df_batting[[\"playerID\", \"yearID\"]].groupby(\"playerID\").count()\n",
    "seasons = seasons.reset_index()\n",
    "seasons = seasons.rename(columns={\"yearID\": \"seasons\"})\n",
    "\n",
    "# Sum the career statistic for each player\n",
    "batter_sum       = df_batting.groupby(\"playerID\").sum()\n",
    "\n",
    "# Calculate the batting average (BA) for each player\n",
    "batter_sum[\"BA\"] = batter_sum[\"H\"] / batter_sum[\"AB\"]\n",
    "\n",
    "# Add the number of seasons to the career sum dataframe using left outer join\n",
    "batter_sum       = batter_sum.merge(seasons, on=\"playerID\", how=\"left\")\n",
    "\n",
    "# Remove the yearID column \n",
    "batter_sum.drop([\"yearID\"], axis=1, inplace=True)"
   ]
  },
  {
   "cell_type": "code",
   "execution_count": 11,
   "metadata": {},
   "outputs": [
    {
     "data": {
      "text/plain": [
       "(247, 2)"
      ]
     },
     "execution_count": 11,
     "metadata": {},
     "output_type": "execute_result"
    }
   ],
   "source": [
    "df_hof.shape"
   ]
  },
  {
   "cell_type": "code",
   "execution_count": 12,
   "metadata": {},
   "outputs": [
    {
     "data": {
      "text/plain": [
       "(16704, 21)"
      ]
     },
     "execution_count": 12,
     "metadata": {},
     "output_type": "execute_result"
    }
   ],
   "source": [
    "batter_sum.shape"
   ]
  },
  {
   "cell_type": "code",
   "execution_count": 13,
   "metadata": {},
   "outputs": [
    {
     "data": {
      "text/html": [
       "<div>\n",
       "<style scoped>\n",
       "    .dataframe tbody tr th:only-of-type {\n",
       "        vertical-align: middle;\n",
       "    }\n",
       "\n",
       "    .dataframe tbody tr th {\n",
       "        vertical-align: top;\n",
       "    }\n",
       "\n",
       "    .dataframe thead th {\n",
       "        text-align: right;\n",
       "    }\n",
       "</style>\n",
       "<table border=\"1\" class=\"dataframe\">\n",
       "  <thead>\n",
       "    <tr style=\"text-align: right;\">\n",
       "      <th></th>\n",
       "      <th>playerID</th>\n",
       "      <th>stint</th>\n",
       "      <th>G</th>\n",
       "      <th>AB</th>\n",
       "      <th>R</th>\n",
       "      <th>H</th>\n",
       "      <th>2B</th>\n",
       "      <th>3B</th>\n",
       "      <th>HR</th>\n",
       "      <th>RBI</th>\n",
       "      <th>...</th>\n",
       "      <th>CS</th>\n",
       "      <th>BB</th>\n",
       "      <th>SO</th>\n",
       "      <th>IBB</th>\n",
       "      <th>HBP</th>\n",
       "      <th>SH</th>\n",
       "      <th>SF</th>\n",
       "      <th>GIDP</th>\n",
       "      <th>BA</th>\n",
       "      <th>seasons</th>\n",
       "    </tr>\n",
       "  </thead>\n",
       "  <tbody>\n",
       "    <tr>\n",
       "      <th>0</th>\n",
       "      <td>aardsda01</td>\n",
       "      <td>3</td>\n",
       "      <td>125</td>\n",
       "      <td>4.0</td>\n",
       "      <td>0.0</td>\n",
       "      <td>0.0</td>\n",
       "      <td>0.0</td>\n",
       "      <td>0.0</td>\n",
       "      <td>0.0</td>\n",
       "      <td>0.0</td>\n",
       "      <td>...</td>\n",
       "      <td>0.0</td>\n",
       "      <td>0.0</td>\n",
       "      <td>2.0</td>\n",
       "      <td>0.0</td>\n",
       "      <td>0.0</td>\n",
       "      <td>1.0</td>\n",
       "      <td>0.0</td>\n",
       "      <td>0.0</td>\n",
       "      <td>0.000000</td>\n",
       "      <td>3</td>\n",
       "    </tr>\n",
       "    <tr>\n",
       "      <th>1</th>\n",
       "      <td>aaronha01</td>\n",
       "      <td>23</td>\n",
       "      <td>3298</td>\n",
       "      <td>12364.0</td>\n",
       "      <td>2174.0</td>\n",
       "      <td>3771.0</td>\n",
       "      <td>624.0</td>\n",
       "      <td>98.0</td>\n",
       "      <td>755.0</td>\n",
       "      <td>2297.0</td>\n",
       "      <td>...</td>\n",
       "      <td>73.0</td>\n",
       "      <td>1402.0</td>\n",
       "      <td>1383.0</td>\n",
       "      <td>293.0</td>\n",
       "      <td>32.0</td>\n",
       "      <td>21.0</td>\n",
       "      <td>121.0</td>\n",
       "      <td>328.0</td>\n",
       "      <td>0.304998</td>\n",
       "      <td>23</td>\n",
       "    </tr>\n",
       "    <tr>\n",
       "      <th>2</th>\n",
       "      <td>aaronto01</td>\n",
       "      <td>7</td>\n",
       "      <td>437</td>\n",
       "      <td>944.0</td>\n",
       "      <td>102.0</td>\n",
       "      <td>216.0</td>\n",
       "      <td>42.0</td>\n",
       "      <td>6.0</td>\n",
       "      <td>13.0</td>\n",
       "      <td>94.0</td>\n",
       "      <td>...</td>\n",
       "      <td>8.0</td>\n",
       "      <td>86.0</td>\n",
       "      <td>145.0</td>\n",
       "      <td>3.0</td>\n",
       "      <td>0.0</td>\n",
       "      <td>9.0</td>\n",
       "      <td>6.0</td>\n",
       "      <td>36.0</td>\n",
       "      <td>0.228814</td>\n",
       "      <td>7</td>\n",
       "    </tr>\n",
       "    <tr>\n",
       "      <th>3</th>\n",
       "      <td>aasedo01</td>\n",
       "      <td>1</td>\n",
       "      <td>49</td>\n",
       "      <td>5.0</td>\n",
       "      <td>0.0</td>\n",
       "      <td>0.0</td>\n",
       "      <td>0.0</td>\n",
       "      <td>0.0</td>\n",
       "      <td>0.0</td>\n",
       "      <td>0.0</td>\n",
       "      <td>...</td>\n",
       "      <td>0.0</td>\n",
       "      <td>0.0</td>\n",
       "      <td>3.0</td>\n",
       "      <td>0.0</td>\n",
       "      <td>0.0</td>\n",
       "      <td>0.0</td>\n",
       "      <td>0.0</td>\n",
       "      <td>0.0</td>\n",
       "      <td>0.000000</td>\n",
       "      <td>1</td>\n",
       "    </tr>\n",
       "    <tr>\n",
       "      <th>4</th>\n",
       "      <td>abadan01</td>\n",
       "      <td>3</td>\n",
       "      <td>15</td>\n",
       "      <td>21.0</td>\n",
       "      <td>1.0</td>\n",
       "      <td>2.0</td>\n",
       "      <td>0.0</td>\n",
       "      <td>0.0</td>\n",
       "      <td>0.0</td>\n",
       "      <td>0.0</td>\n",
       "      <td>...</td>\n",
       "      <td>1.0</td>\n",
       "      <td>4.0</td>\n",
       "      <td>5.0</td>\n",
       "      <td>0.0</td>\n",
       "      <td>0.0</td>\n",
       "      <td>0.0</td>\n",
       "      <td>0.0</td>\n",
       "      <td>1.0</td>\n",
       "      <td>0.095238</td>\n",
       "      <td>3</td>\n",
       "    </tr>\n",
       "  </tbody>\n",
       "</table>\n",
       "<p>5 rows × 21 columns</p>\n",
       "</div>"
      ],
      "text/plain": [
       "    playerID  stint     G       AB       R       H     2B    3B     HR  \\\n",
       "0  aardsda01      3   125      4.0     0.0     0.0    0.0   0.0    0.0   \n",
       "1  aaronha01     23  3298  12364.0  2174.0  3771.0  624.0  98.0  755.0   \n",
       "2  aaronto01      7   437    944.0   102.0   216.0   42.0   6.0   13.0   \n",
       "3   aasedo01      1    49      5.0     0.0     0.0    0.0   0.0    0.0   \n",
       "4   abadan01      3    15     21.0     1.0     2.0    0.0   0.0    0.0   \n",
       "\n",
       "      RBI  ...    CS      BB      SO    IBB   HBP    SH     SF   GIDP  \\\n",
       "0     0.0  ...   0.0     0.0     2.0    0.0   0.0   1.0    0.0    0.0   \n",
       "1  2297.0  ...  73.0  1402.0  1383.0  293.0  32.0  21.0  121.0  328.0   \n",
       "2    94.0  ...   8.0    86.0   145.0    3.0   0.0   9.0    6.0   36.0   \n",
       "3     0.0  ...   0.0     0.0     3.0    0.0   0.0   0.0    0.0    0.0   \n",
       "4     0.0  ...   1.0     4.0     5.0    0.0   0.0   0.0    0.0    1.0   \n",
       "\n",
       "         BA  seasons  \n",
       "0  0.000000        3  \n",
       "1  0.304998       23  \n",
       "2  0.228814        7  \n",
       "3  0.000000        1  \n",
       "4  0.095238        3  \n",
       "\n",
       "[5 rows x 21 columns]"
      ]
     },
     "execution_count": 13,
     "metadata": {},
     "output_type": "execute_result"
    }
   ],
   "source": [
    "batter_sum.head()"
   ]
  },
  {
   "cell_type": "markdown",
   "metadata": {},
   "source": [
    "I then merge the batter_sum and df_hof using a left outer join:"
   ]
  },
  {
   "cell_type": "code",
   "execution_count": 14,
   "metadata": {},
   "outputs": [],
   "source": [
    "# Left outer join batter_sum and df_hof\n",
    "batter = batter_sum.merge(df_hof, on=\"playerID\", how=\"left\")"
   ]
  },
  {
   "cell_type": "markdown",
   "metadata": {},
   "source": [
    "The matched players will have halloffame value of \"Y\", which means they are a member of HOF. All other non-matched players have halloffame value of NaN. I then converted all \"Y\" values to 1 and all NaN values to 0."
   ]
  },
  {
   "cell_type": "code",
   "execution_count": 15,
   "metadata": {
    "scrolled": true
   },
   "outputs": [],
   "source": [
    "# Convert halloffame values to 0 or 1\n",
    "batter[\"halloffame\"] = batter[\"halloffame\"].apply(lambda x: 1 if x==\"Y\" else 0)"
   ]
  },
  {
   "cell_type": "code",
   "execution_count": 16,
   "metadata": {
    "scrolled": false
   },
   "outputs": [
    {
     "data": {
      "text/plain": [
       "playerID      0\n",
       "stint         0\n",
       "G             0\n",
       "AB            0\n",
       "R             0\n",
       "H             0\n",
       "2B            0\n",
       "3B            0\n",
       "HR            0\n",
       "RBI           0\n",
       "SB            0\n",
       "CS            0\n",
       "BB            0\n",
       "SO            0\n",
       "IBB           0\n",
       "HBP           0\n",
       "SH            0\n",
       "SF            0\n",
       "GIDP          0\n",
       "BA            0\n",
       "seasons       0\n",
       "halloffame    0\n",
       "dtype: int64"
      ]
     },
     "execution_count": 16,
     "metadata": {},
     "output_type": "execute_result"
    }
   ],
   "source": [
    "# Check null values\n",
    "batter.isnull().sum()"
   ]
  },
  {
   "cell_type": "markdown",
   "metadata": {},
   "source": [
    "The biographical information provided in Master table may also provide valuable insights into whether or not a player will make into the Hall Of Fame."
   ]
  },
  {
   "cell_type": "code",
   "execution_count": 17,
   "metadata": {
    "scrolled": true
   },
   "outputs": [
    {
     "data": {
      "text/html": [
       "<div>\n",
       "<style scoped>\n",
       "    .dataframe tbody tr th:only-of-type {\n",
       "        vertical-align: middle;\n",
       "    }\n",
       "\n",
       "    .dataframe tbody tr th {\n",
       "        vertical-align: top;\n",
       "    }\n",
       "\n",
       "    .dataframe thead th {\n",
       "        text-align: right;\n",
       "    }\n",
       "</style>\n",
       "<table border=\"1\" class=\"dataframe\">\n",
       "  <thead>\n",
       "    <tr style=\"text-align: right;\">\n",
       "      <th></th>\n",
       "      <th>playerID</th>\n",
       "      <th>birthYear</th>\n",
       "      <th>birthMonth</th>\n",
       "      <th>birthDay</th>\n",
       "      <th>birthCountry</th>\n",
       "      <th>birthState</th>\n",
       "      <th>birthCity</th>\n",
       "      <th>deathYear</th>\n",
       "      <th>deathMonth</th>\n",
       "      <th>deathDay</th>\n",
       "      <th>...</th>\n",
       "      <th>nameLast</th>\n",
       "      <th>nameGiven</th>\n",
       "      <th>weight</th>\n",
       "      <th>height</th>\n",
       "      <th>bats</th>\n",
       "      <th>throws</th>\n",
       "      <th>debut</th>\n",
       "      <th>finalGame</th>\n",
       "      <th>retroID</th>\n",
       "      <th>bbrefID</th>\n",
       "    </tr>\n",
       "  </thead>\n",
       "  <tbody>\n",
       "    <tr>\n",
       "      <th>0</th>\n",
       "      <td>aardsda01</td>\n",
       "      <td>1981.0</td>\n",
       "      <td>12.0</td>\n",
       "      <td>27.0</td>\n",
       "      <td>USA</td>\n",
       "      <td>CO</td>\n",
       "      <td>Denver</td>\n",
       "      <td>NaN</td>\n",
       "      <td>NaN</td>\n",
       "      <td>NaN</td>\n",
       "      <td>...</td>\n",
       "      <td>Aardsma</td>\n",
       "      <td>David Allan</td>\n",
       "      <td>220.0</td>\n",
       "      <td>75.0</td>\n",
       "      <td>R</td>\n",
       "      <td>R</td>\n",
       "      <td>2004-04-06</td>\n",
       "      <td>2015-08-23</td>\n",
       "      <td>aardd001</td>\n",
       "      <td>aardsda01</td>\n",
       "    </tr>\n",
       "    <tr>\n",
       "      <th>1</th>\n",
       "      <td>aaronha01</td>\n",
       "      <td>1934.0</td>\n",
       "      <td>2.0</td>\n",
       "      <td>5.0</td>\n",
       "      <td>USA</td>\n",
       "      <td>AL</td>\n",
       "      <td>Mobile</td>\n",
       "      <td>NaN</td>\n",
       "      <td>NaN</td>\n",
       "      <td>NaN</td>\n",
       "      <td>...</td>\n",
       "      <td>Aaron</td>\n",
       "      <td>Henry Louis</td>\n",
       "      <td>180.0</td>\n",
       "      <td>72.0</td>\n",
       "      <td>R</td>\n",
       "      <td>R</td>\n",
       "      <td>1954-04-13</td>\n",
       "      <td>1976-10-03</td>\n",
       "      <td>aaroh101</td>\n",
       "      <td>aaronha01</td>\n",
       "    </tr>\n",
       "    <tr>\n",
       "      <th>2</th>\n",
       "      <td>aaronto01</td>\n",
       "      <td>1939.0</td>\n",
       "      <td>8.0</td>\n",
       "      <td>5.0</td>\n",
       "      <td>USA</td>\n",
       "      <td>AL</td>\n",
       "      <td>Mobile</td>\n",
       "      <td>1984.0</td>\n",
       "      <td>8.0</td>\n",
       "      <td>16.0</td>\n",
       "      <td>...</td>\n",
       "      <td>Aaron</td>\n",
       "      <td>Tommie Lee</td>\n",
       "      <td>190.0</td>\n",
       "      <td>75.0</td>\n",
       "      <td>R</td>\n",
       "      <td>R</td>\n",
       "      <td>1962-04-10</td>\n",
       "      <td>1971-09-26</td>\n",
       "      <td>aarot101</td>\n",
       "      <td>aaronto01</td>\n",
       "    </tr>\n",
       "    <tr>\n",
       "      <th>3</th>\n",
       "      <td>aasedo01</td>\n",
       "      <td>1954.0</td>\n",
       "      <td>9.0</td>\n",
       "      <td>8.0</td>\n",
       "      <td>USA</td>\n",
       "      <td>CA</td>\n",
       "      <td>Orange</td>\n",
       "      <td>NaN</td>\n",
       "      <td>NaN</td>\n",
       "      <td>NaN</td>\n",
       "      <td>...</td>\n",
       "      <td>Aase</td>\n",
       "      <td>Donald William</td>\n",
       "      <td>190.0</td>\n",
       "      <td>75.0</td>\n",
       "      <td>R</td>\n",
       "      <td>R</td>\n",
       "      <td>1977-07-26</td>\n",
       "      <td>1990-10-03</td>\n",
       "      <td>aased001</td>\n",
       "      <td>aasedo01</td>\n",
       "    </tr>\n",
       "    <tr>\n",
       "      <th>4</th>\n",
       "      <td>abadan01</td>\n",
       "      <td>1972.0</td>\n",
       "      <td>8.0</td>\n",
       "      <td>25.0</td>\n",
       "      <td>USA</td>\n",
       "      <td>FL</td>\n",
       "      <td>Palm Beach</td>\n",
       "      <td>NaN</td>\n",
       "      <td>NaN</td>\n",
       "      <td>NaN</td>\n",
       "      <td>...</td>\n",
       "      <td>Abad</td>\n",
       "      <td>Fausto Andres</td>\n",
       "      <td>184.0</td>\n",
       "      <td>73.0</td>\n",
       "      <td>L</td>\n",
       "      <td>L</td>\n",
       "      <td>2001-09-10</td>\n",
       "      <td>2006-04-13</td>\n",
       "      <td>abada001</td>\n",
       "      <td>abadan01</td>\n",
       "    </tr>\n",
       "  </tbody>\n",
       "</table>\n",
       "<p>5 rows × 24 columns</p>\n",
       "</div>"
      ],
      "text/plain": [
       "    playerID  birthYear  birthMonth  birthDay birthCountry birthState  \\\n",
       "0  aardsda01     1981.0        12.0      27.0          USA         CO   \n",
       "1  aaronha01     1934.0         2.0       5.0          USA         AL   \n",
       "2  aaronto01     1939.0         8.0       5.0          USA         AL   \n",
       "3   aasedo01     1954.0         9.0       8.0          USA         CA   \n",
       "4   abadan01     1972.0         8.0      25.0          USA         FL   \n",
       "\n",
       "    birthCity  deathYear  deathMonth  deathDay  ... nameLast       nameGiven  \\\n",
       "0      Denver        NaN         NaN       NaN  ...  Aardsma     David Allan   \n",
       "1      Mobile        NaN         NaN       NaN  ...    Aaron     Henry Louis   \n",
       "2      Mobile     1984.0         8.0      16.0  ...    Aaron      Tommie Lee   \n",
       "3      Orange        NaN         NaN       NaN  ...     Aase  Donald William   \n",
       "4  Palm Beach        NaN         NaN       NaN  ...     Abad   Fausto Andres   \n",
       "\n",
       "  weight height bats throws       debut   finalGame   retroID    bbrefID  \n",
       "0  220.0   75.0    R      R  2004-04-06  2015-08-23  aardd001  aardsda01  \n",
       "1  180.0   72.0    R      R  1954-04-13  1976-10-03  aaroh101  aaronha01  \n",
       "2  190.0   75.0    R      R  1962-04-10  1971-09-26  aarot101  aaronto01  \n",
       "3  190.0   75.0    R      R  1977-07-26  1990-10-03  aased001   aasedo01  \n",
       "4  184.0   73.0    L      L  2001-09-10  2006-04-13  abada001   abadan01  \n",
       "\n",
       "[5 rows x 24 columns]"
      ]
     },
     "execution_count": 17,
     "metadata": {},
     "output_type": "execute_result"
    }
   ],
   "source": [
    "# Check first five rows of Master table\n",
    "df_master.head()"
   ]
  },
  {
   "cell_type": "markdown",
   "metadata": {},
   "source": [
    "There are many features/columns in Master table. Instead of including all these features, I will only include several features which are likely to be related to whether or not the player will make into the Hall of Fame. Since this predictive model only predicts whether or not a player will ultimately make into the Hall of Fame, the birth and death ralated features may be excluded."
   ]
  },
  {
   "cell_type": "code",
   "execution_count": 18,
   "metadata": {},
   "outputs": [],
   "source": [
    "# Only include features \"playerID\", \"birthCountry\", \"weight\", \"height\", \"bats\"\n",
    "df_master = df_master[[\"playerID\", \"birthCountry\", \"weight\", \"height\", \"bats\"]]\n",
    "\n",
    "# convert birthCountry value to either USA (1) or non-USA (0)\n",
    "df_master[\"birthCountry\"] = df_master[\"birthCountry\"].apply(lambda x: 1 if x==\"USA\" else 0)"
   ]
  },
  {
   "cell_type": "code",
   "execution_count": 19,
   "metadata": {
    "scrolled": true
   },
   "outputs": [
    {
     "data": {
      "text/plain": [
       "playerID           0\n",
       "birthCountry       0\n",
       "weight           871\n",
       "height           805\n",
       "bats            1191\n",
       "dtype: int64"
      ]
     },
     "execution_count": 19,
     "metadata": {},
     "output_type": "execute_result"
    }
   ],
   "source": [
    "# Check null values\n",
    "df_master.isnull().sum()"
   ]
  },
  {
   "cell_type": "code",
   "execution_count": 20,
   "metadata": {},
   "outputs": [],
   "source": [
    "# Delete rows with null values\n",
    "df_master = df_master.dropna(axis=0, how=\"any\")\n",
    "\n",
    "# Reset index\n",
    "df_master = df_master.reset_index(drop=True)"
   ]
  },
  {
   "cell_type": "code",
   "execution_count": 21,
   "metadata": {},
   "outputs": [
    {
     "data": {
      "text/plain": [
       "array(['R', 'L', 'B'], dtype=object)"
      ]
     },
     "execution_count": 21,
     "metadata": {},
     "output_type": "execute_result"
    }
   ],
   "source": [
    "# Check \"bats\" unique values \n",
    "df_master[\"bats\"].unique()"
   ]
  },
  {
   "cell_type": "markdown",
   "metadata": {},
   "source": [
    "### 2. One-hot encoding"
   ]
  },
  {
   "cell_type": "markdown",
   "metadata": {},
   "source": [
    "Now I'll **one-hot encode** the \"bats\" feature:"
   ]
  },
  {
   "cell_type": "code",
   "execution_count": 22,
   "metadata": {},
   "outputs": [],
   "source": [
    "# One-hot encoding of a categorical feature\n",
    "def onehot_encoding(column):\n",
    "    '''\n",
    "    Convert a categorical feature in a dataframe column to an one-hot encoding\n",
    "    '''\n",
    "    # LabelEncoder() encods categorical labels with integers\n",
    "    labelencoder    = LabelEncoder() \n",
    "    integer_encoded = labelencoder.fit_transform(column) \n",
    "    # Scikit-learn expects the samples in form of a 2-D array\n",
    "    integer_encoded = integer_encoded.reshape(-1,1) \n",
    "    # OneHotEncoder() encodes integer features with one-hot encodings\n",
    "    onehotencoder   = OneHotEncoder()\n",
    "    onehot_encoded  = onehotencoder.fit_transform(integer_encoded)\n",
    "    # Convert sparse array to dense array, then convert to a list \n",
    "    onehot_encoded  = onehot_encoded.toarray().tolist()\n",
    "    return onehot_encoded\n",
    "\n",
    "# Convert a categorical feature to an one-hot encoding list\n",
    "bats      = onehot_encoding(df_master[\"bats\"])\n",
    "\n",
    "# Create a dataframe\n",
    "df_bats   = pd.DataFrame(bats, columns=[\"bats_B\", \"bats_L\", \"bats_R\"])\n",
    "\n",
    "# Add one-hot encoding dataframe back to the original dataframe\n",
    "df_master = pd.concat([df_master, df_bats], axis=1)\n",
    "\n",
    "# Drop the categorical feature\n",
    "df_master = df_master.drop([\"bats\"], axis=1)"
   ]
  },
  {
   "cell_type": "code",
   "execution_count": 23,
   "metadata": {
    "scrolled": true
   },
   "outputs": [
    {
     "data": {
      "text/html": [
       "<div>\n",
       "<style scoped>\n",
       "    .dataframe tbody tr th:only-of-type {\n",
       "        vertical-align: middle;\n",
       "    }\n",
       "\n",
       "    .dataframe tbody tr th {\n",
       "        vertical-align: top;\n",
       "    }\n",
       "\n",
       "    .dataframe thead th {\n",
       "        text-align: right;\n",
       "    }\n",
       "</style>\n",
       "<table border=\"1\" class=\"dataframe\">\n",
       "  <thead>\n",
       "    <tr style=\"text-align: right;\">\n",
       "      <th></th>\n",
       "      <th>playerID</th>\n",
       "      <th>birthCountry</th>\n",
       "      <th>weight</th>\n",
       "      <th>height</th>\n",
       "      <th>bats_B</th>\n",
       "      <th>bats_L</th>\n",
       "      <th>bats_R</th>\n",
       "    </tr>\n",
       "  </thead>\n",
       "  <tbody>\n",
       "    <tr>\n",
       "      <th>0</th>\n",
       "      <td>aardsda01</td>\n",
       "      <td>1</td>\n",
       "      <td>220.0</td>\n",
       "      <td>75.0</td>\n",
       "      <td>0.0</td>\n",
       "      <td>0.0</td>\n",
       "      <td>1.0</td>\n",
       "    </tr>\n",
       "    <tr>\n",
       "      <th>1</th>\n",
       "      <td>aaronha01</td>\n",
       "      <td>1</td>\n",
       "      <td>180.0</td>\n",
       "      <td>72.0</td>\n",
       "      <td>0.0</td>\n",
       "      <td>0.0</td>\n",
       "      <td>1.0</td>\n",
       "    </tr>\n",
       "    <tr>\n",
       "      <th>2</th>\n",
       "      <td>aaronto01</td>\n",
       "      <td>1</td>\n",
       "      <td>190.0</td>\n",
       "      <td>75.0</td>\n",
       "      <td>0.0</td>\n",
       "      <td>0.0</td>\n",
       "      <td>1.0</td>\n",
       "    </tr>\n",
       "    <tr>\n",
       "      <th>3</th>\n",
       "      <td>aasedo01</td>\n",
       "      <td>1</td>\n",
       "      <td>190.0</td>\n",
       "      <td>75.0</td>\n",
       "      <td>0.0</td>\n",
       "      <td>0.0</td>\n",
       "      <td>1.0</td>\n",
       "    </tr>\n",
       "    <tr>\n",
       "      <th>4</th>\n",
       "      <td>abadan01</td>\n",
       "      <td>1</td>\n",
       "      <td>184.0</td>\n",
       "      <td>73.0</td>\n",
       "      <td>0.0</td>\n",
       "      <td>1.0</td>\n",
       "      <td>0.0</td>\n",
       "    </tr>\n",
       "  </tbody>\n",
       "</table>\n",
       "</div>"
      ],
      "text/plain": [
       "    playerID  birthCountry  weight  height  bats_B  bats_L  bats_R\n",
       "0  aardsda01             1   220.0    75.0     0.0     0.0     1.0\n",
       "1  aaronha01             1   180.0    72.0     0.0     0.0     1.0\n",
       "2  aaronto01             1   190.0    75.0     0.0     0.0     1.0\n",
       "3   aasedo01             1   190.0    75.0     0.0     0.0     1.0\n",
       "4   abadan01             1   184.0    73.0     0.0     1.0     0.0"
      ]
     },
     "execution_count": 23,
     "metadata": {},
     "output_type": "execute_result"
    }
   ],
   "source": [
    "df_master.head()"
   ]
  },
  {
   "cell_type": "markdown",
   "metadata": {},
   "source": [
    "Then merge the batter dataframe with df_master dataframe using left inner join:"
   ]
  },
  {
   "cell_type": "code",
   "execution_count": 24,
   "metadata": {},
   "outputs": [],
   "source": [
    "# Inner join batter with df_master\n",
    "batter_all = batter.merge(df_master, on=\"playerID\", how=\"inner\")"
   ]
  },
  {
   "cell_type": "markdown",
   "metadata": {},
   "source": [
    "### 3. Normalization"
   ]
  },
  {
   "cell_type": "markdown",
   "metadata": {},
   "source": [
    "The last step of feature enginnering is to **normalize/scale** the numerical features:"
   ]
  },
  {
   "cell_type": "code",
   "execution_count": 25,
   "metadata": {},
   "outputs": [],
   "source": [
    "# Initialize the StandardScaler, which will scale each feature to a value with distribution of mean 0 and standard deviation 1\n",
    "scaler = StandardScaler()\n",
    "\n",
    "# Dataframe containing all numerical fatures to be scaled\n",
    "X_scale = batter_all[['stint', 'G', 'AB', 'R', 'H', '2B', '3B', 'HR', 'RBI', 'SB',\n",
    "          'CS', 'BB', 'SO', 'IBB', 'HBP', 'SH', 'SF', 'GIDP', 'BA', 'seasons', 'weight', 'height']]\n",
    "\n",
    "# Fit scaler estimator and standardize the numerical features\n",
    "X_scale = scaler.fit_transform(X_scale)\n",
    "\n",
    "# Convert the scaled numpy array to a dataframe\n",
    "df_X1 = pd.DataFrame(X_scale, columns=['stint', 'G', 'AB', 'R', 'H', '2B', '3B', \n",
    "       'HR', 'RBI', 'SB', 'CS', 'BB', 'SO', 'IBB', 'HBP', 'SH', 'SF', 'GIDP', 'BA', 'seasons', 'weight', 'height'])\n",
    "\n",
    "# The dataframe containing the unscaled features\n",
    "df_X2 = batter_all[[\"playerID\", \"birthCountry\", \"bats_B\", \"bats_L\", \"bats_R\", \"halloffame\"]]\n",
    "\n",
    "# Concatenate the scaled and unscaled features \n",
    "batter_all = pd.concat([df_X1, df_X2], axis=1)\n"
   ]
  },
  {
   "cell_type": "code",
   "execution_count": 26,
   "metadata": {},
   "outputs": [
    {
     "data": {
      "text/html": [
       "<div>\n",
       "<style scoped>\n",
       "    .dataframe tbody tr th:only-of-type {\n",
       "        vertical-align: middle;\n",
       "    }\n",
       "\n",
       "    .dataframe tbody tr th {\n",
       "        vertical-align: top;\n",
       "    }\n",
       "\n",
       "    .dataframe thead th {\n",
       "        text-align: right;\n",
       "    }\n",
       "</style>\n",
       "<table border=\"1\" class=\"dataframe\">\n",
       "  <thead>\n",
       "    <tr style=\"text-align: right;\">\n",
       "      <th></th>\n",
       "      <th>stint</th>\n",
       "      <th>G</th>\n",
       "      <th>AB</th>\n",
       "      <th>R</th>\n",
       "      <th>H</th>\n",
       "      <th>2B</th>\n",
       "      <th>3B</th>\n",
       "      <th>HR</th>\n",
       "      <th>RBI</th>\n",
       "      <th>SB</th>\n",
       "      <th>...</th>\n",
       "      <th>BA</th>\n",
       "      <th>seasons</th>\n",
       "      <th>weight</th>\n",
       "      <th>height</th>\n",
       "      <th>playerID</th>\n",
       "      <th>birthCountry</th>\n",
       "      <th>bats_B</th>\n",
       "      <th>bats_L</th>\n",
       "      <th>bats_R</th>\n",
       "      <th>halloffame</th>\n",
       "    </tr>\n",
       "  </thead>\n",
       "  <tbody>\n",
       "    <tr>\n",
       "      <th>0</th>\n",
       "      <td>-0.518733</td>\n",
       "      <td>-0.390219</td>\n",
       "      <td>-0.532705</td>\n",
       "      <td>-0.474499</td>\n",
       "      <td>-0.497809</td>\n",
       "      <td>-0.476128</td>\n",
       "      <td>-0.409405</td>\n",
       "      <td>-0.336489</td>\n",
       "      <td>-0.459537</td>\n",
       "      <td>-0.320778</td>\n",
       "      <td>...</td>\n",
       "      <td>-1.621311</td>\n",
       "      <td>-0.490633</td>\n",
       "      <td>1.653801</td>\n",
       "      <td>1.115813</td>\n",
       "      <td>aardsda01</td>\n",
       "      <td>1</td>\n",
       "      <td>0.0</td>\n",
       "      <td>0.0</td>\n",
       "      <td>1.0</td>\n",
       "      <td>0</td>\n",
       "    </tr>\n",
       "    <tr>\n",
       "      <th>1</th>\n",
       "      <td>3.123607</td>\n",
       "      <td>6.173369</td>\n",
       "      <td>6.637830</td>\n",
       "      <td>7.959255</td>\n",
       "      <td>7.264882</td>\n",
       "      <td>6.771606</td>\n",
       "      <td>4.352771</td>\n",
       "      <td>13.515928</td>\n",
       "      <td>9.098745</td>\n",
       "      <td>3.693020</td>\n",
       "      <td>...</td>\n",
       "      <td>0.956732</td>\n",
       "      <td>3.527670</td>\n",
       "      <td>-0.268513</td>\n",
       "      <td>-0.073828</td>\n",
       "      <td>aaronha01</td>\n",
       "      <td>1</td>\n",
       "      <td>0.0</td>\n",
       "      <td>0.0</td>\n",
       "      <td>1.0</td>\n",
       "      <td>1</td>\n",
       "    </tr>\n",
       "    <tr>\n",
       "      <th>2</th>\n",
       "      <td>0.209735</td>\n",
       "      <td>0.255176</td>\n",
       "      <td>0.012627</td>\n",
       "      <td>-0.078803</td>\n",
       "      <td>-0.053168</td>\n",
       "      <td>0.011700</td>\n",
       "      <td>-0.117844</td>\n",
       "      <td>-0.097971</td>\n",
       "      <td>-0.068384</td>\n",
       "      <td>-0.170261</td>\n",
       "      <td>...</td>\n",
       "      <td>0.312769</td>\n",
       "      <td>0.313028</td>\n",
       "      <td>0.212065</td>\n",
       "      <td>1.115813</td>\n",
       "      <td>aaronto01</td>\n",
       "      <td>1</td>\n",
       "      <td>0.0</td>\n",
       "      <td>0.0</td>\n",
       "      <td>1.0</td>\n",
       "      <td>0</td>\n",
       "    </tr>\n",
       "    <tr>\n",
       "      <th>3</th>\n",
       "      <td>-0.882967</td>\n",
       "      <td>-0.547431</td>\n",
       "      <td>-0.532125</td>\n",
       "      <td>-0.474499</td>\n",
       "      <td>-0.497809</td>\n",
       "      <td>-0.476128</td>\n",
       "      <td>-0.409405</td>\n",
       "      <td>-0.336489</td>\n",
       "      <td>-0.459537</td>\n",
       "      <td>-0.320778</td>\n",
       "      <td>...</td>\n",
       "      <td>-1.621311</td>\n",
       "      <td>-0.892463</td>\n",
       "      <td>0.212065</td>\n",
       "      <td>1.115813</td>\n",
       "      <td>aasedo01</td>\n",
       "      <td>1</td>\n",
       "      <td>0.0</td>\n",
       "      <td>0.0</td>\n",
       "      <td>1.0</td>\n",
       "      <td>0</td>\n",
       "    </tr>\n",
       "    <tr>\n",
       "      <th>4</th>\n",
       "      <td>-0.518733</td>\n",
       "      <td>-0.617762</td>\n",
       "      <td>-0.522842</td>\n",
       "      <td>-0.470619</td>\n",
       "      <td>-0.493692</td>\n",
       "      <td>-0.476128</td>\n",
       "      <td>-0.409405</td>\n",
       "      <td>-0.336489</td>\n",
       "      <td>-0.459537</td>\n",
       "      <td>-0.320778</td>\n",
       "      <td>...</td>\n",
       "      <td>-0.816297</td>\n",
       "      <td>-0.490633</td>\n",
       "      <td>-0.076282</td>\n",
       "      <td>0.322719</td>\n",
       "      <td>abadan01</td>\n",
       "      <td>1</td>\n",
       "      <td>0.0</td>\n",
       "      <td>1.0</td>\n",
       "      <td>0.0</td>\n",
       "      <td>0</td>\n",
       "    </tr>\n",
       "  </tbody>\n",
       "</table>\n",
       "<p>5 rows × 28 columns</p>\n",
       "</div>"
      ],
      "text/plain": [
       "      stint         G        AB         R         H        2B        3B  \\\n",
       "0 -0.518733 -0.390219 -0.532705 -0.474499 -0.497809 -0.476128 -0.409405   \n",
       "1  3.123607  6.173369  6.637830  7.959255  7.264882  6.771606  4.352771   \n",
       "2  0.209735  0.255176  0.012627 -0.078803 -0.053168  0.011700 -0.117844   \n",
       "3 -0.882967 -0.547431 -0.532125 -0.474499 -0.497809 -0.476128 -0.409405   \n",
       "4 -0.518733 -0.617762 -0.522842 -0.470619 -0.493692 -0.476128 -0.409405   \n",
       "\n",
       "          HR       RBI        SB  ...        BA   seasons    weight    height  \\\n",
       "0  -0.336489 -0.459537 -0.320778  ... -1.621311 -0.490633  1.653801  1.115813   \n",
       "1  13.515928  9.098745  3.693020  ...  0.956732  3.527670 -0.268513 -0.073828   \n",
       "2  -0.097971 -0.068384 -0.170261  ...  0.312769  0.313028  0.212065  1.115813   \n",
       "3  -0.336489 -0.459537 -0.320778  ... -1.621311 -0.892463  0.212065  1.115813   \n",
       "4  -0.336489 -0.459537 -0.320778  ... -0.816297 -0.490633 -0.076282  0.322719   \n",
       "\n",
       "    playerID  birthCountry  bats_B  bats_L  bats_R  halloffame  \n",
       "0  aardsda01             1     0.0     0.0     1.0           0  \n",
       "1  aaronha01             1     0.0     0.0     1.0           1  \n",
       "2  aaronto01             1     0.0     0.0     1.0           0  \n",
       "3   aasedo01             1     0.0     0.0     1.0           0  \n",
       "4   abadan01             1     0.0     1.0     0.0           0  \n",
       "\n",
       "[5 rows x 28 columns]"
      ]
     },
     "execution_count": 26,
     "metadata": {},
     "output_type": "execute_result"
    }
   ],
   "source": [
    "# Show first five rows of batter_all\n",
    "batter_all.head()"
   ]
  },
  {
   "cell_type": "code",
   "execution_count": 27,
   "metadata": {},
   "outputs": [
    {
     "data": {
      "text/plain": [
       "0    15216\n",
       "1      221\n",
       "Name: halloffame, dtype: int64"
      ]
     },
     "execution_count": 27,
     "metadata": {},
     "output_type": "execute_result"
    }
   ],
   "source": [
    "# Calculate number of players who are not in HOF and who are in HOF\n",
    "batter_all[\"halloffame\"].value_counts()"
   ]
  },
  {
   "cell_type": "markdown",
   "metadata": {},
   "source": [
    "As we can see, the majority of batters did not make into the Hall of Fame. This results in a **class imbalance probelm**.  "
   ]
  },
  {
   "cell_type": "markdown",
   "metadata": {},
   "source": [
    "## Machine learning"
   ]
  },
  {
   "cell_type": "markdown",
   "metadata": {},
   "source": [
    "### 1. Random forest classifier"
   ]
  },
  {
   "cell_type": "markdown",
   "metadata": {},
   "source": [
    "To account for the class imbalance in the data, I will use a bagging (random forest classification) method and I will reweight the classes using the \"class_weight\" flag passed to the random forest classifier at initialization. \n",
    "\n",
    "I chose to use a random forest classifier as it tends to require short amount of time to optimize, reduces variance in comparison to regular decision trees, is able to handle non-linear relationships, and can provide feature importance measures for input variables. With more time, I would also explore other models, e.g., logistic regression, SVC, etc. "
   ]
  },
  {
   "cell_type": "code",
   "execution_count": 75,
   "metadata": {},
   "outputs": [
    {
     "name": "stdout",
     "output_type": "stream",
     "text": [
      "Fitting 5 folds for each of 48 candidates, totalling 240 fits\n"
     ]
    },
    {
     "name": "stderr",
     "output_type": "stream",
     "text": [
      "[Parallel(n_jobs=-1)]: Using backend LokyBackend with 4 concurrent workers.\n",
      "[Parallel(n_jobs=-1)]: Done  24 tasks      | elapsed:   12.0s\n",
      "[Parallel(n_jobs=-1)]: Done 120 tasks      | elapsed:   54.6s\n",
      "[Parallel(n_jobs=-1)]: Done 240 out of 240 | elapsed:  1.9min finished\n"
     ]
    }
   ],
   "source": [
    "X = batter_all.drop([\"halloffame\", \"playerID\"], axis=1)\n",
    "y = batter_all[\"halloffame\"]\n",
    "\n",
    "# Split data into training and testing set\n",
    "X_train, X_test, y_train, y_test = train_test_split(X, y, test_size=0.3, random_state=321)\n",
    "\n",
    "# Setup 5-fold stratified cross validation\n",
    "cv = StratifiedKFold(n_splits=5)\n",
    "\n",
    "# Define a parameter grid to search over \n",
    "param_grid = {\"max_features\": [\"sqrt\", \"log2\", 10], \"n_estimators\": [50, 100, 150, 200], \"max_depth\": [3, 5, 7, 9]}\n",
    "\n",
    "# Initialize a random forest classifier \n",
    "rfc = RandomForestClassifier(class_weight=\"balanced\")\n",
    "\n",
    "# Grid search different combinations of hyperparameters with 5-fold cv\n",
    "rfc_grid = GridSearchCV(rfc, param_grid=param_grid, cv=cv, n_jobs=-1, verbose=3)\n",
    "\n",
    "# Fit the estimator\n",
    "rfc_grid.fit(X_train, y_train)\n",
    "\n",
    "# Select the estimator with the best scoring \n",
    "rfc_best = rfc_grid.best_estimator_"
   ]
  },
  {
   "cell_type": "markdown",
   "metadata": {},
   "source": [
    "Since the data is highly imbalanced, it's not appropriate to use accuracy as the metric to evaluate the predictive performance of the model. I'll calculate the area under ROC curve using only the testing data set. Also, I'll show the full classification report with precision, recall, and F-1 score."
   ]
  },
  {
   "cell_type": "code",
   "execution_count": 29,
   "metadata": {},
   "outputs": [
    {
     "name": "stdout",
     "output_type": "stream",
     "text": [
      "\tClassification Report for Random Forest Classifier\n",
      "\n",
      "                precision    recall  f1-score   support\n",
      "\n",
      "not-halloffame       0.99      0.98      0.99      4564\n",
      "    halloffame       0.38      0.63      0.48        68\n",
      "\n",
      "     micro avg       0.98      0.98      0.98      4632\n",
      "     macro avg       0.69      0.81      0.73      4632\n",
      "  weighted avg       0.99      0.98      0.98      4632\n",
      "\n",
      "\n",
      "Area under ROC curve: 0.81\n"
     ]
    },
    {
     "data": {
      "image/png": "[encoded data removed]",
      "text/plain": [
       "<Figure size 432x288 with 1 Axes>"
      ]
     },
     "metadata": {},
     "output_type": "display_data"
    }
   ],
   "source": [
    "# Prediction results for testing set\n",
    "y_pred = rfc_best.predict(X_test)\n",
    "\n",
    "# Calculate AUC score and generate classification report\n",
    "roc_score = roc_auc_score(y_test, y_pred)\n",
    "print(\"\\tClassification Report for Random Forest Classifier\\n\")\n",
    "print(classification_report(y_test, y_pred, target_names=[\"not-halloffame\", \"halloffame\"]))\n",
    "print(\"\\nArea under ROC curve: %0.2f\" % roc_score)\n",
    "\n",
    "# Plotting ROC curve \n",
    "y_prob = rfc_best.predict_proba(X_test)[:, 1]\n",
    "fpr, tpr, thresholds = roc_curve(y_test, y_prob)\n",
    "fig, ax = plt.subplots()\n",
    "ax.plot(fpr, tpr, lw=1, label=\"AUC = %0.2f\" %(roc_score))\n",
    "ax.plot([0, 1], [0, 1], '--', color=(0.5, 0.5, 0.5), label='Random')\n",
    "ax.set_xlim(-0.05, 1.05)\n",
    "ax.set_ylim(-0.05, 1.05)\n",
    "ax.set_xlabel(\"False Positive Rate\", fontsize=12)\n",
    "ax.set_ylabel(\"True Positive Rate\", fontsize=12)\n",
    "ax.set_title(\"ROC curve\", fontsize=15)\n",
    "ax.legend(loc=\"best\", frameon = True).get_frame().set_edgecolor('black')\n",
    "ax.grid(True, linestyle = 'dotted')"
   ]
  },
  {
   "cell_type": "markdown",
   "metadata": {},
   "source": [
    "We can see from the classification report that the precision and recall for halloffame predictions are quite low compared to that for not-halloffame. This major imbalance makes me think that perhaps the class reweighting implemented at initialization of the random forest classifier didn't work so well.\n",
    "\n",
    "So I decided to repeat the same ML pipeline but with the addition of performing a SMOTE upsampling of the data in an effort to address the rather low precision and recall associated with predicting halloffame."
   ]
  },
  {
   "cell_type": "markdown",
   "metadata": {},
   "source": [
    "### 2. Random forest classifier with SMOTE upsampling"
   ]
  },
  {
   "cell_type": "code",
   "execution_count": 30,
   "metadata": {},
   "outputs": [
    {
     "name": "stdout",
     "output_type": "stream",
     "text": [
      "Fitting 5 folds for each of 48 candidates, totalling 240 fits\n"
     ]
    },
    {
     "name": "stderr",
     "output_type": "stream",
     "text": [
      "[Parallel(n_jobs=-1)]: Using backend LokyBackend with 4 concurrent workers.\n",
      "[Parallel(n_jobs=-1)]: Done  24 tasks      | elapsed:   23.4s\n",
      "[Parallel(n_jobs=-1)]: Done 120 tasks      | elapsed:  2.7min\n",
      "[Parallel(n_jobs=-1)]: Done 240 out of 240 | elapsed:  7.3min finished\n"
     ]
    }
   ],
   "source": [
    "# Apply SMOTE oversampling technique\n",
    "smote = SMOTE()\n",
    "X_resampled, y_resampled = smote.fit_resample(X, y)\n",
    "\n",
    "# Convert resampled numpy array to dataframe \n",
    "X_res = pd.DataFrame(X_resampled, index=range(X_resampled.shape[0]), columns=X.columns)\n",
    "y_res = pd.Series(y_resampled)\n",
    "\n",
    "# Split data into training and testing set\n",
    "X_train, X_test, y_train, y_test = train_test_split(X_res, y_res, test_size=0.3, random_state=321)\n",
    "\n",
    "# Setup 5-fold stratified cross validation\n",
    "cv = StratifiedKFold(n_splits=5)\n",
    "\n",
    "# Define a parameter grid to search over \n",
    "param_grid = {\"max_features\": [\"sqrt\", \"log2\", 10], \"n_estimators\": [50, 100, 150, 200], \"max_depth\": [3, 5, 7, 9]}\n",
    "\n",
    "# Initialize a random forest classifier \n",
    "rfc = RandomForestClassifier(class_weight=\"balanced\")\n",
    "\n",
    "# Grid search different combinations of hyperparameters with 5-fold cv\n",
    "rfc_grid = GridSearchCV(rfc, param_grid=param_grid, cv=cv, n_jobs=-1, verbose=3)\n",
    "\n",
    "# Fit the estimator\n",
    "rfc_grid.fit(X_train, y_train)\n",
    "\n",
    "# Select the estimator with the best scoring \n",
    "rfc_best = rfc_grid.best_estimator_"
   ]
  },
  {
   "cell_type": "markdown",
   "metadata": {},
   "source": [
    "The same validation procedure is applied to check whether the upsampling helped at all."
   ]
  },
  {
   "cell_type": "code",
   "execution_count": 31,
   "metadata": {
    "scrolled": false
   },
   "outputs": [
    {
     "name": "stdout",
     "output_type": "stream",
     "text": [
      "\tClassification Report for Random Forest Classifier\n",
      "\n",
      "                precision    recall  f1-score   support\n",
      "\n",
      "not-halloffame       1.00      0.98      0.99      4544\n",
      "    halloffame       0.98      1.00      0.99      4586\n",
      "\n",
      "     micro avg       0.99      0.99      0.99      9130\n",
      "     macro avg       0.99      0.99      0.99      9130\n",
      "  weighted avg       0.99      0.99      0.99      9130\n",
      "\n",
      "\n",
      "Area under ROC curve: 0.99\n"
     ]
    },
    {
     "data": {
      "image/png": "[encoded data removed]",
      "text/plain": [
       "<Figure size 432x288 with 1 Axes>"
      ]
     },
     "metadata": {},
     "output_type": "display_data"
    }
   ],
   "source": [
    "# Prediction results for testing set\n",
    "y_pred = rfc_best.predict(X_test)\n",
    "\n",
    "# Calculate AUC score\n",
    "roc_score = roc_auc_score(y_test, y_pred)\n",
    "print(\"\\tClassification Report for Random Forest Classifier\\n\")\n",
    "print(classification_report(y_test, y_pred, target_names=[\"not-halloffame\", \"halloffame\"]))\n",
    "print(\"\\nArea under ROC curve: %0.2f\" % roc_score)\n",
    "\n",
    "# Plotting ROC curve \n",
    "y_prob = rfc_best.predict_proba(X_test)[:, 1]\n",
    "fpr, tpr, thresholds = roc_curve(y_test, y_prob)\n",
    "fig, ax = plt.subplots()\n",
    "ax.plot(fpr, tpr, lw=1, label=\"AUC = %0.2f\" %(roc_score))\n",
    "ax.plot([0, 1], [0, 1], '--', color=(0.5, 0.5, 0.5), label='Random')\n",
    "ax.set_xlim(-0.05, 1.05)\n",
    "ax.set_ylim(-0.05, 1.05)\n",
    "ax.set_xlabel(\"False Positive Rate\", fontsize=12)\n",
    "ax.set_ylabel(\"True Positive Rate\", fontsize=12)\n",
    "ax.set_title(\"ROC curve\", fontsize=15)\n",
    "ax.legend(loc=\"best\", frameon = True).get_frame().set_edgecolor('black')\n",
    "ax.grid(True, linestyle = 'dotted')"
   ]
  },
  {
   "cell_type": "markdown",
   "metadata": {},
   "source": [
    "Validation results show that the upsampling definitely seemed to help. It's a little disconcerting that both precision and recall scores are alomost perfect. I'm cautious about possible overfitting effect. Given more time, I would look into this. But for now, I will move on.\n",
    "\n",
    "I will then show the most important features based on the optimized random forest classifer."
   ]
  },
  {
   "cell_type": "markdown",
   "metadata": {},
   "source": [
    "### 3. Feature importances"
   ]
  },
  {
   "cell_type": "code",
   "execution_count": 33,
   "metadata": {},
   "outputs": [
    {
     "data": {
      "image/png": "[encoded data removed]",
      "text/plain": [
       "<Figure size 576x432 with 1 Axes>"
      ]
     },
     "metadata": {},
     "output_type": "display_data"
    }
   ],
   "source": [
    "# Feature names\n",
    "features = X.columns\n",
    "\n",
    "# Feature importances\n",
    "feature_importances = rfc_best.feature_importances_\n",
    "\n",
    "# Indices of feature importances in a descending order\n",
    "indices = np.argsort(feature_importances)[::-1]\n",
    "\n",
    "# Plotting feature importances\n",
    "fig, ax = plt.subplots(figsize=(8,6))\n",
    "sns.barplot(x=features[indices], y=feature_importances[indices], color=\"indianred\")\n",
    "ax.set_ylabel(\"Relative Feature Importance\", fontsize=12)\n",
    "ax.set_title(\"Feature Importances\", fontsize=15)\n",
    "ax.xaxis.set_tick_params(rotation=60, size=12)"
   ]
  },
  {
   "cell_type": "markdown",
   "metadata": {},
   "source": [
    "As we can see from the feature importance plot, \"seasons\" is the most important feature. This makes sense as this feafure denotes how many seasons the player played in MLB. More seasons mean the player has more statistics to be collected and is more likely to break some types of records, and hence more likely to make into the Hall of Fame. Other important features such as \"stint\" (order of appearances within a season), \"G\" (number of games in which a player played), \"AB\" (at bats), etc. also make sense to be important predictors for the halloffame prediction. Another intersting thing to note is that it looks like the biographical features from the Master table are not that useful at predicting halloffame (the four least important features come from biographical features).\n"
   ]
  },
  {
   "cell_type": "markdown",
   "metadata": {},
   "source": [
    "## Future work"
   ]
  },
  {
   "cell_type": "markdown",
   "metadata": {},
   "source": [
    "* Perform feature selection or dimensionality reduction\n",
    "* Do more feature engineering\n",
    "* Try some other models\n",
    "* Look into other class imbalance handling techniques"
   ]
  }
 ],
 "metadata": {
  "kernelspec": {
   "display_name": "Python 3",
   "language": "python",
   "name": "python3"
  },
  "language_info": {
   "codemirror_mode": {
    "name": "ipython",
    "version": 3
   },
   "file_extension": ".py",
   "mimetype": "text/x-python",
   "name": "python",
   "nbconvert_exporter": "python",
   "pygments_lexer": "ipython3",
   "version": "3.7.6"
  }
 },
 "nbformat": 4,
 "nbformat_minor": 2
}
